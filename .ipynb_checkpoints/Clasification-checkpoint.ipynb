{
 "cells": [
  {
   "cell_type": "markdown",
   "metadata": {
    "slideshow": {
     "slide_type": "slide"
    }
   },
   "source": [
    "# Classification for the centar of mass $(r_\\text{cm})$ of exoplanetary systems through GMM \n",
    "\n",
    "We use Gaussian Mixture Model to clasify the center of mass of exoplanetary systems, employing the observational data  "
   ]
  },
  {
   "cell_type": "markdown",
   "metadata": {
    "slideshow": {
     "slide_type": "subslide"
    }
   },
   "source": [
    "## 1. Read and clean the file from exoplanet.eu\n",
    "\n",
    "From the most complete list of observed exoplanets planets to date, <a href=\"http://exoplanet.eu/\">exoplanet.eu</a>, we take the planetary mass $M_{tp}$, the semi_major $a$ and the Metallicity Fe/H (with their respective uncertainties).  \n",
    "\n",
    "It is necessary processing the data with the prurpose to obtain the Center of Mass $r_\\text{cm}$, as a DataFrame `data`, without NaN values in the columns of _mass_ ($M_{tp}$) and _semi major axis_($a$). Finally, we get the data cleaned.\n",
    "\n",
    "**Remember**: `pd.notnull(\"name_of_column\")` deletes the NaN values in the column. \n",
    "\n",
    "**Remember**: `data=data[['column_a','column_b',..,'column_n',]]` to get a new order in the DataFrame"
   ]
  },
  {
   "cell_type": "code",
   "execution_count": 1,
   "metadata": {
    "slideshow": {
     "slide_type": "skip"
    }
   },
   "outputs": [
    {
     "data": {
      "text/html": [
       "\n",
       "<style>\n",
       ".output_png {\n",
       "    display: table-cell;\n",
       "    text-align: center;\n",
       "    vertical-align: middle;\n",
       "}\n",
       "</style>\n"
      ],
      "text/plain": [
       "<IPython.core.display.HTML object>"
      ]
     },
     "execution_count": 1,
     "metadata": {},
     "output_type": "execute_result"
    }
   ],
   "source": [
    "from IPython.core.display import HTML\n",
    "HTML(\"\"\"\n",
    "<style>\n",
    ".output_png {\n",
    "    display: table-cell;\n",
    "    text-align: center;\n",
    "    vertical-align: middle;\n",
    "}\n",
    "</style>\n",
    "\"\"\")"
   ]
  },
  {
   "cell_type": "code",
   "execution_count": 2,
   "metadata": {
    "slideshow": {
     "slide_type": "subslide"
    }
   },
   "outputs": [],
   "source": [
    "import pandas as pd; \n",
    "import numpy as np\n",
    "from scipy.stats import norm, truncnorm\n",
    "import random\n",
    "from sklearn.mixture import GaussianMixture\n",
    "import matplotlib.pyplot as plt \n",
    "import seaborn as sb\n",
    "from matplotlib import rc, cm, rcParams\n",
    "%matplotlib inline\n",
    "\n",
    "plt.style.use('./figures/img.mplstyle')\n",
    "\n",
    "import matplotlib as mpl\n",
    "mpl.rcParams['text.usetex'] = True\n",
    "mpl.rcParams['text.latex.preamble'] = [r'\\usepackage{amsmath}', r'\\usepackage{wasysym}']\n"
   ]
  },
  {
   "cell_type": "markdown",
   "metadata": {
    "slideshow": {
     "slide_type": "subslide"
    }
   },
   "source": [
    "\n",
    "Now, the data is read (only mass and semi major axis with their uncertainties)."
   ]
  },
  {
   "cell_type": "code",
   "execution_count": 3,
   "metadata": {
    "scrolled": true,
    "slideshow": {
     "slide_type": "fragment"
    }
   },
   "outputs": [
    {
     "name": "stdout",
     "output_type": "stream",
     "text": [
      "the number of planetary system to date is = 3825\n",
      "Total of NaN values = 8502\n"
     ]
    },
    {
     "data": {
      "text/plain": [
       "mass                         2158\n",
       "mass_error_min               2380\n",
       "semi_major_axis              1476\n",
       "semi_major_axis_error_min    2483\n",
       "star_name                       5\n",
       "dtype: int64"
      ]
     },
     "execution_count": 3,
     "metadata": {},
     "output_type": "execute_result"
    }
   ],
   "source": [
    "data_ep = pd.read_csv('data/exoplanet.eu_catalog.csv', \n",
    "                      usecols=['mass','mass_error_min','semi_major_axis',\n",
    "                               'semi_major_axis_error_min','star_name'])\n",
    "\n",
    "print(\"the number of planetary system to date is = \"+str(len(data_ep)))\n",
    "\n",
    "# It replaces the inf values:\n",
    "data_ep = data_ep.replace([np.inf, -np.inf], np.nan) \n",
    "data_ep = data_ep.replace([0], np.nan)\n",
    "# Total of NaN values:\n",
    "\n",
    "print(\"Total of NaN values = \"+str(data_ep.isnull().sum().sum()))\n",
    "\n",
    "# Numer of nan values per column:\n",
    "data_ep.isnull().sum()"
   ]
  },
  {
   "cell_type": "markdown",
   "metadata": {
    "slideshow": {
     "slide_type": "fragment"
    }
   },
   "source": [
    "After check for missing values in the data, we can see that some names of stars do not exists!!<font color='red'> Does it mean that some stars do not have names?</font> We will discuss latter. \n",
    "\n",
    "For the time being, we are going to continue cleaning the data. We do not take into account the NaN values."
   ]
  },
  {
   "cell_type": "code",
   "execution_count": 4,
   "metadata": {
    "slideshow": {
     "slide_type": "subslide"
    }
   },
   "outputs": [
    {
     "name": "stdout",
     "output_type": "stream",
     "text": [
      "Total of planets with complete data = 1208\n"
     ]
    }
   ],
   "source": [
    "dataB = data_ep.dropna(subset=['mass','mass_error_min','semi_major_axis',\n",
    "                               'semi_major_axis_error_min'])\n",
    "\n",
    "# Clean the data for the star names:\n",
    "dataB = dataB.dropna(subset=['star_name'])\n",
    "\n",
    "# Data after cleaning:\n",
    "data = dataB[['star_name','mass', 'mass_error_min',\n",
    "              'semi_major_axis','semi_major_axis_error_min']]\n",
    "\n",
    "print(\"Total of planets with complete data = \"+str(len(data)))"
   ]
  },
  {
   "cell_type": "markdown",
   "metadata": {
    "slideshow": {
     "slide_type": "subslide"
    }
   },
   "source": [
    "The cleaning result is a data frame with complete information of the numer of total planets per system $N_{tp}$, thir masses and semi-major axis with respective uncertainties. The data can group by the name of the host star."
   ]
  },
  {
   "cell_type": "code",
   "execution_count": 5,
   "metadata": {
    "slideshow": {
     "slide_type": "fragment"
    }
   },
   "outputs": [],
   "source": [
    "#The system for comparisons: \n",
    "A = data.groupby(\"star_name\")\n",
    "#A.sum()\n",
    "#SystemA_i = data[data.star_name == \"TRAPPIST-1\"]  \n",
    "#SystemA_i"
   ]
  },
  {
   "cell_type": "markdown",
   "metadata": {
    "slideshow": {
     "slide_type": "subslide"
    }
   },
   "source": [
    "Let's plot the distribution of the logarithm of planetary mass, $M_\\text{tp}$, and the distribution of the logarithm of semi-major axis $a$:"
   ]
  },
  {
   "cell_type": "code",
   "execution_count": 55,
   "metadata": {
    "slideshow": {
     "slide_type": "subslide"
    }
   },
   "outputs": [
    {
     "data": {
      "image/png": "[encoded data removed]",
      "text/plain": [
       "<Figure size 640.8x244.8 with 2 Axes>"
      ]
     },
     "metadata": {
      "needs_background": "light"
     },
     "output_type": "display_data"
    }
   ],
   "source": [
    "# -Plot----distributions \n",
    "fig, (ax1,ax2) = plt.subplots(1, 2, figsize=(8.9, 3.4))\n",
    "bins = 18\n",
    "\n",
    "m=np.log10(data.mass.values)\n",
    "a=np.log10(data.semi_major_axis.values)\n",
    "\n",
    "_, _, bars0 = ax1.hist(m, bins=bins, label=r'Planetary mass',\n",
    "                       color = \"C0\", alpha = .5, density= True)\n",
    "_, _, bars1 = ax2.hist(a, bins=bins, label=r'Semi-major axis', \n",
    "                      color = \"C0\", alpha = .5, density= True)\n",
    "\n",
    "for bar in bars1:\n",
    "    bar.set_edgecolor(\"C0\")\n",
    "    \n",
    "for bar in bars0:\n",
    "    bar.set_edgecolor(\"C0\")\n",
    "\n",
    "ax1.set_xlabel(r\"$\\log_{10}\\left(\\frac{m}{1\\ M_\\text{Jup}}\\right)$\")\n",
    "ax2.set_xlabel(r\"$\\log_{10}\\left(\\frac{a}{1\\ \\text{AU}}\\right)$\")\n",
    "ax1.set_ylabel(r\"Counts\")\n",
    "\n",
    "ax1.set_xticks(np.arange(int(min(m))-1, int(max(m))+2, 1.0))\n",
    "ax2.set_xticks(np.arange(int(min(a))-1, int(max(a))+2, 1.0))\n",
    "\n",
    "\n",
    "ax1.legend(handletextpad=.4, labelspacing=.25, loc=0)\n",
    "ax2.legend(handletextpad=.4, labelspacing=.25, loc=0)\n",
    "plt.savefig(\"figures/hists.pdf\", bbox_inches='tight')"
   ]
  },
  {
   "cell_type": "markdown",
   "metadata": {
    "slideshow": {
     "slide_type": "subslide"
    }
   },
   "source": [
    "So, `data` is a DataFrame without NaN values in columns of names, masses, semi major axis and their uncertainties. Finally, we got 1217 rows, it means, exoplanets with confirmed data. "
   ]
  },
  {
   "cell_type": "markdown",
   "metadata": {
    "slideshow": {
     "slide_type": "slide"
    }
   },
   "source": [
    "## 2. Get the center of Mass \n",
    "We need to estimate the $r_\\text{cm}$ for each system. The definition of center of mass:\n",
    "\\begin{equation*}\n",
    "r_\\text{cm} = \\frac{\\sum\\limits_{k=1}^n(m_{k}\\vec{r_{k}})}{\\sum \\limits_{k=1}^{n}m_{k}} %=\\frac{\\sum\\limits_{k=1}^n(m_{k}\\vec{r_{k}})}{M_{T}}\n",
    "\\end{equation*}\n",
    "To do it, is nessesary get the values mass $m$ times disnace $r$, for each planet, so with the columns of `mass` and distance from the star `semi_major_axis` we can get $m_{k}\\vec{r_{k}}$ values. Then, we take the sum for all planets in each systems, as a result we got $\\text{CM}_i$ for $i\\in\\{0,1,2,3,4,\\ldots,n\\}$.\n",
    "\n",
    "Our variable for clasify the systems is CM but some systems only have one planet, so, the center of mass for this systems CM$_j$, can be taked as the mass $m_j$.\n",
    "\n",
    "**Remember:** The `data.groupby(\"key\")` split the data in groups which are the key.\n",
    "\n",
    "**Remember:** The `data[i].multiply(data[j])` multiplies the comun i and j of DataFrame or Series i and j, row by row.\n",
    "\n",
    "**Remember:** The `data.groupby.groups.keys()` get the keys of the split data."
   ]
  },
  {
   "cell_type": "code",
   "execution_count": 7,
   "metadata": {
    "slideshow": {
     "slide_type": "subslide"
    }
   },
   "outputs": [
    {
     "name": "stdout",
     "output_type": "stream",
     "text": [
      "The number of planetary systems = 980\n",
      "Systems with more than one planet = 153\n"
     ]
    }
   ],
   "source": [
    "# Group by the name system:\n",
    "p_system = data.groupby(\"star_name\")\n",
    "print('The number of planetary systems = '+ str(len(p_system)))\n",
    "\n",
    "# The numer of exoplanets around each star:\n",
    "number=(data[\"star_name\"].value_counts()).to_frame()\n",
    "\n",
    "# The number of systems with more than one exoplanet:\n",
    "count = 0\n",
    "for i, index in enumerate(number.star_name.values):\n",
    "    if index>1.:\n",
    "        count+=1 \n",
    "print(\"Systems with more than one planet = \"+str(count))"
   ]
  },
  {
   "cell_type": "code",
   "execution_count": 8,
   "metadata": {
    "scrolled": true,
    "slideshow": {
     "slide_type": "subslide"
    }
   },
   "outputs": [],
   "source": [
    "#-----------------------function center of mass-----------------------\n",
    "#it returns a data frame group bay systems:\n",
    "\n",
    "def CoM(data): #data is a dataframe with mass and semi major axis \n",
    "    \n",
    "    # Multiplications between columns mass and axis, CM_i new column:\n",
    "    data = data.assign(CM_i=data[\"semi_major_axis\"]*data[\"mass\"])\n",
    "    #print(data)\n",
    "    # Group by each planet in the system:\n",
    "    p_system = data.groupby(\"star_name\") \n",
    "    system = list(p_system.groups.keys())\n",
    "    # Total mass per system:\n",
    "    M_total = p_system[\"mass\"].sum()\n",
    "    sum_rm = p_system['CM_i'].sum() # sum of masses in each system.\n",
    "    # Center of mass:\n",
    "    CoM = sum_rm.divide(M_total)\n",
    "    \n",
    "    system = list(p_system.groups.keys())\n",
    "    \n",
    "    NewData = pd.DataFrame({'System_name':system,\n",
    "                            'Total_mass':M_total.tolist(),\n",
    "                            'Center_of_Mass':CoM.tolist()})\n",
    "\n",
    "    return NewData"
   ]
  },
  {
   "cell_type": "code",
   "execution_count": 9,
   "metadata": {
    "slideshow": {
     "slide_type": "skip"
    }
   },
   "outputs": [],
   "source": [
    "CoM=CoM(data);#CoM"
   ]
  },
  {
   "cell_type": "markdown",
   "metadata": {
    "slideshow": {
     "slide_type": "subslide"
    }
   },
   "source": [
    "Therefore, the distribution of the $r_\\text{cm}$"
   ]
  },
  {
   "cell_type": "code",
   "execution_count": 57,
   "metadata": {
    "slideshow": {
     "slide_type": "fragment"
    }
   },
   "outputs": [
    {
     "data": {
      "image/png": "[encoded data removed]",
      "text/plain": [
       "<Figure size 432x244.8 with 1 Axes>"
      ]
     },
     "metadata": {
      "needs_background": "light"
     },
     "output_type": "display_data"
    }
   ],
   "source": [
    "#histogram \n",
    "x=CoM.Center_of_Mass.values\n",
    "\n",
    "fig, ax = plt.subplots(1, 1, figsize=(6, 3.4))\n",
    "\n",
    "_,_, bars = ax.hist(np.log10(x), bins=50, label=r\"Center of mass $r_\\text{cm}$\", \n",
    "                   alpha=.5, density=True)\n",
    "\n",
    "for bar in bars:\n",
    "    bar.set_edgecolor(\"C0\")\n",
    "#ax.set_xticklabels([r'$10^{-3}$',r'$10^{-2}$',r'$10^{-1}$',r'$10^{0}$',\n",
    "#                    r'$10^{1}$',r'$10^{2}$',r'$10^{3}$'])#,\n",
    "#                    r'$10^{3}$',r'$10^{4}$'])\n",
    "ax.set(xlim=(np.log10(x).min(),np.log10(x).max()))\n",
    "\n",
    "plt.xlabel(r\"$\\log_{10}\\left(\\frac{r_\\text{cm}}{1\\ \\text{AU}}\\right)$\")\n",
    "plt.ylabel(r\"Counts\")\n",
    "plt.legend()\n",
    "plt.savefig(\"figures/CMhist.pdf\",bbox_inches='tight')"
   ]
  },
  {
   "cell_type": "markdown",
   "metadata": {
    "slideshow": {
     "slide_type": "fragment"
    }
   },
   "source": [
    "However, the calculus of the $r_\\text{cm}$, was made without take into account the mass of the star."
   ]
  },
  {
   "cell_type": "markdown",
   "metadata": {
    "slideshow": {
     "slide_type": "slide"
    }
   },
   "source": [
    "## 3. Gaussian Mixture Model\n",
    "\n",
    "At first we will use the Gaussian Mixture Model to clasify the $r_\\text{cm}$ in $n$ finite distributions. Python has the library `sckit-learn`, which uses the Expectation Maximization algorithm to determine the maximum likelihood for  a determined number $n$ of clusters (more informtion  <a href=\"https://scikit-learn.org/stable/modules/mixture.html\">Gaussian Mixture</a>). \n",
    "\n",
    "\n",
    "### Class: clustering\n",
    "\n",
    "This class is oriented to determine the ideal number of cluster for some data. In this case de data came from a DataFrame `CoM`, which has the center of mass $r_\\text{cm}$ for each observed planetary system."
   ]
  },
  {
   "cell_type": "code",
   "execution_count": 11,
   "metadata": {
    "slideshow": {
     "slide_type": "subslide"
    }
   },
   "outputs": [],
   "source": [
    "# data is a clean DataFrame with the previous Nan values deleteed.\n",
    "# log is True of False depending if you take the log10 of the variables.  \n",
    "\n",
    "class clustering(object):\n",
    "    \n",
    "    def __init__(self, data, log):  \n",
    "\n",
    "        data = data.assign(CM_i=data[\"semi_major_axis\"]*data[\"mass\"])\n",
    "        self.p_system = data.groupby(\"star_name\") \n",
    "        self.log = log\n",
    "        \n",
    "        if log==True:\n",
    "            self.r_cm=np.reshape(np.log10(self.CoM().Center_of_Mass.values),(-1,1))\n",
    "            self.name=r'$\\log_{10}\\frac{r_\\text{cm}}{1\\ \\text[AU]}$'\n",
    "        else: \n",
    "            self.r_cm=np.reshape(self.CoM().Center_of_Mass.values,(-1,1))\n",
    "            self.name=r'$r_\\text{cm}$ [AU]'\n",
    "    \n",
    "    def CoM(self):\n",
    "        CoM = self.p_system['CM_i'].sum().divide(self.p_system[\"mass\"].sum())\n",
    "        self.NewData = pd.DataFrame({'System_name':list(self.p_system.groups.keys()),\n",
    "                                    'Total_mass':self.p_system[\"mass\"].sum().tolist(),\n",
    "                                    'Center_of_Mass':CoM.tolist()})\n",
    "        return self.NewData\n",
    "        \n",
    "    def GMM(self, n_components):\n",
    "        self.n = n_components\n",
    "        self.gmm = GaussianMixture(self.n, covariance_type='full', random_state=0)\n",
    "        self.gmm.fit(self.r_cm)\n",
    "        self.cluster_label = self.gmm.predict(self.r_cm)\n",
    "        \n",
    "    def inf_criteria(self, times):\n",
    "        self.bic, self.aic = [], []\n",
    "        for i in range(times):\n",
    "            i += 1\n",
    "            self.GMM(i)\n",
    "            self.bic.append(self.gmm.bic(self.r_cm)); self.aic.append(self.gmm.aic(self.r_cm))\n",
    "        \n",
    "        self.ideal = self.bic.index(min(self.bic))+1\n",
    "        \n",
    "        print('Ideal number of clusters, BIC = '+str(self.bic.index(min(self.bic))+1))\n",
    "        print('Ideal number of clusters, AIC = '+str(self.aic.index(min(self.aic))+1))"
   ]
  },
  {
   "cell_type": "markdown",
   "metadata": {
    "slideshow": {
     "slide_type": "subslide"
    }
   },
   "source": [
    "### Method: Center of Mass ... again\n",
    "The  `clustering` class has a method for obtain the center of mas $r_\\text{cm}$"
   ]
  },
  {
   "cell_type": "code",
   "execution_count": 12,
   "metadata": {
    "slideshow": {
     "slide_type": "fragment"
    }
   },
   "outputs": [],
   "source": [
    "cluster = clustering(data, True)\n",
    "#data.head()\n",
    "#cluster.NewData.Center_of_Mass.values.reshape(-1,1)"
   ]
  },
  {
   "cell_type": "markdown",
   "metadata": {
    "slideshow": {
     "slide_type": "subslide"
    }
   },
   "source": [
    "### Method: GMM for gaussian mixture model\n",
    "We use the `GaussianMixture` package from `sckit-learn` to classify our data in different number of clusrers ($n$). Here, we employ the number of compnents, `n_components` as the numer of clusters $n$. The `GaussianMixture` let us predict the labels of clustering for data samples, using trained model. \n",
    "\n",
    "Finally the `GaussianMixture` also has the predict posterior probability of each component given the data (more informtion  <a href=\"https://scikit-learn.org/stable/modules/mixture.html\">Gaussian Mixture</a>). "
   ]
  },
  {
   "cell_type": "code",
   "execution_count": 13,
   "metadata": {
    "slideshow": {
     "slide_type": "fragment"
    }
   },
   "outputs": [],
   "source": [
    "cluster = clustering(data, True)\n",
    "cluster.GMM(10)\n",
    "#cluster.cluster_label"
   ]
  },
  {
   "cell_type": "markdown",
   "metadata": {
    "slideshow": {
     "slide_type": "subslide"
    }
   },
   "source": [
    "### Method: Information Criterion AIC/BIC\n",
    "Now, we need to determine the idel number of clusters. To do that, we use the information criterion as strategy to avoiding underfit or overfit. The information criteria determine the quality of models and score them (more information <a href=\"https://en.wikipedia.org/wiki/Model_selection#Criteria\">Model selection</a>).  \n",
    "\n",
    "\n",
    "We define a function wich gets the information criteria for different numbers of components (the number of mixture components $n$), in order to obtain the minimum value of criterium to determine the ideal number of clsuters. The lowest BIC/AIC is preferred.\n",
    "\n",
    "Then, it plots the BIC and AIC values to observe their behavior.\n",
    "\n",
    "cluster = clustering(data, True)\n",
    "cluster.inf_criteria(20)"
   ]
  },
  {
   "cell_type": "code",
   "execution_count": 14,
   "metadata": {},
   "outputs": [
    {
     "name": "stdout",
     "output_type": "stream",
     "text": [
      "Ideal number of clusters, BIC = 4\n",
      "Ideal number of clusters, AIC = 11\n"
     ]
    }
   ],
   "source": [
    "cluster = clustering(data, True) \n",
    "cluster.inf_criteria(20)"
   ]
  },
  {
   "cell_type": "markdown",
   "metadata": {
    "slideshow": {
     "slide_type": "subslide"
    }
   },
   "source": [
    "## 4. Confidence of classification \n",
    "\n",
    "Now we employ a inherited class in python fo the class `clustering`.\n",
    "\n",
    "\n",
    "### Class: draw - synthetic $r_\\text{cm}$\n",
    "\n",
    "\n",
    "This function generates 1000 synthetic systems ( _Dawns_ ) per each data (the mass an its uncertainty). We take draws from this, and stimate the validation of the classification.\n",
    "\n",
    "The posteriror probabilities are determinated by the function `gmm.predict()`"
   ]
  },
  {
   "cell_type": "code",
   "execution_count": 15,
   "metadata": {
    "slideshow": {
     "slide_type": "subslide"
    }
   },
   "outputs": [],
   "source": [
    "class draw(clustering):\n",
    "    \n",
    "    def __init__(self, data, log):\n",
    "        clustering.__init__(self, data, log)\n",
    "    \n",
    "    def draws(self):\n",
    "        \n",
    "        self.Draws = [] # a 1000 synthetic r_cm for each system\n",
    "        \n",
    "        for sistem in self.p_system.groups.keys():\n",
    "            \n",
    "            SystemA_i = data[data.star_name == sistem]  \n",
    "            Mass_System, Mass_Axe, DrawsAA  = np.zeros(1000), np.zeros(1000), np.zeros(1000)\n",
    "            \n",
    "            for planet in range(len(SystemA_i)):\n",
    "                \n",
    "                mu_m, sigma_m = SystemA_i.mass.values[planet], SystemA_i.mass_error_min.values[planet]\n",
    "                mu_a, sigma_a = SystemA_i.semi_major_axis.values[planet], SystemA_i.semi_major_axis_error_min.values[planet]\n",
    "                \n",
    "                lower_m, upper_m = 0, mu_m+5*sigma_m \n",
    "                lower_a, upper_a = 0, mu_a+5*sigma_a\n",
    "                \n",
    "                a_m, b_m = (lower_m - mu_m) / sigma_m, (upper_m - mu_m) / sigma_m\n",
    "                a_a, b_a = (lower_a - mu_a) / sigma_a, (upper_a - mu_a) / sigma_a\n",
    "                \n",
    "                masses = truncnorm.rvs(a_m, b_m, scale=sigma_m, loc=mu_m, size=1000)\n",
    "                axes   = truncnorm.rvs(a_a, b_a, scale=sigma_a, loc=mu_a, size=1000)\n",
    "\n",
    "                Mass_Axe += masses*axes\n",
    "                Mass_System += masses\n",
    "    \n",
    "                DrawsAA+=Mass_Axe/Mass_System\n",
    "        \n",
    "            self.Draws.append(DrawsAA)\n",
    "        \n",
    "    def fraction_ch(self,  r = 15):\n",
    "        r = 10\n",
    "        frac=[]\n",
    "        self.draws()\n",
    "        self.inf_criteria(r)\n",
    "        self.GMM(self.ideal)\n",
    "        \n",
    "        if self.log == True:  \n",
    "            Dr = np.log10(self.Draws)\n",
    "            \n",
    "        for k in range(len(Dr)):\n",
    "            Draw_i=Dr[k][:,np.newaxis]\n",
    "            frac+=[(self.cluster_label[k]!=self.gmm.predict(Draw_i)).sum()/len(Dr)] # AA es el elemento i de draws (que debe ser un array de 1000 elementos)\n",
    "            p = sum(frac)/len(frac)*100\n",
    "            \n",
    "        return print(\"the persentage of change is \"+str('%.2f' % p))\n"
   ]
  },
  {
   "cell_type": "markdown",
   "metadata": {
    "slideshow": {
     "slide_type": "subslide"
    }
   },
   "source": [
    "### Method: draws\n",
    "\n",
    "So, the daws came from the class `draw` with the method `draws` and generates $1000$ synthetic values for each observable value in the center of mass the $r_ \\text{cm}$"
   ]
  },
  {
   "cell_type": "code",
   "execution_count": 16,
   "metadata": {
    "slideshow": {
     "slide_type": "fragment"
    }
   },
   "outputs": [],
   "source": [
    "ss = draw(data, False)\n",
    "ss.draws()\n",
    "#plt.hist(ss.Draws[8])\n",
    "#ss.fraction_ch()"
   ]
  },
  {
   "cell_type": "markdown",
   "metadata": {
    "slideshow": {
     "slide_type": "subslide"
    }
   },
   "source": [
    "### Method: fraction_ch\n",
    "\n",
    "It gets the percentage of values that changes of cluster, in order to verify how reliable the classification is."
   ]
  },
  {
   "cell_type": "code",
   "execution_count": 17,
   "metadata": {
    "slideshow": {
     "slide_type": "subslide"
    }
   },
   "outputs": [
    {
     "name": "stdout",
     "output_type": "stream",
     "text": [
      "Ideal number of clusters, BIC = 4\n",
      "Ideal number of clusters, AIC = 10\n",
      "the persentage of change is 4.28\n"
     ]
    }
   ],
   "source": [
    "ss = draw(data, True)\n",
    "ss.fraction_ch()"
   ]
  },
  {
   "cell_type": "code",
   "execution_count": 18,
   "metadata": {
    "slideshow": {
     "slide_type": "fragment"
    }
   },
   "outputs": [
    {
     "data": {
      "text/plain": [
       "4.191530612244898"
      ]
     },
     "execution_count": 18,
     "metadata": {},
     "output_type": "execute_result"
    }
   ],
   "source": [
    "# CM_log is the centero of mass in log scale for each system\n",
    "orig = clustering(data, True)\n",
    "orig.GMM(4)\n",
    "Draws = ss.Draws\n",
    "\n",
    "frac=[]\n",
    "for k in range(len(Draws)):\n",
    "    Draw_i=np.log10(Draws[k][:,np.newaxis])\n",
    "    frac+=[(orig.cluster_label[k]!=orig.gmm.predict(Draw_i)).sum()/10] # AA es el elemento i de draws (que debe ser un array de 1000 elementos)\n",
    "\n",
    "sum(frac)/len(frac) #in percentage"
   ]
  },
  {
   "cell_type": "code",
   "execution_count": 446,
   "metadata": {
    "scrolled": true
   },
   "outputs": [
    {
     "data": {
      "text/plain": [
       "'      \\n    #Clusters_plot\\n    def clusters_plot(self, save=False, fig_name=\"nn\"):\\n        self.fig_name = fig_name\\n        dsize, lsize, fsize = 3.5, 11, 14\\n        self.data = np.log10(self.NewData.Center_of_Mass.values.reshape(-1, 1))\\n        self.color = [\"C\"+str(self.cluster_label[i]+1) for i in range(len(self.cluster_label))]\\n        x = np.linspace(self.data.min(),self.data.max(),1000)\\n        figure, ax = plt.subplots(1, 2, sharex=\\'col\\', sharey=\\'row\\', figsize=(12, 5))\\n        \\n        #Gaussians and scaters:\\n        for c in range(self.n):\\n            ax[0].plot(x,norm.pdf(x,self.gmm.means_[c], self.gmm.covariances_[c])[0]/                       norm.pdf(x,self.gmm.means_[c], self.gmm.covariances_[c])[0].max(), \\n                       label =r\"Gaussian \"+str(c+1))\\n            \\n            Mass_a=self.data[self.cluster_label==c]    \\n            \\n            ax[0].plot(Mass_a, np.zeros(len(Mass_a)),\"o\", markersize=dsize,\\n                       label=\\'Cluster \\'+str(c+1), color=\"C\"+str(c))\\n\\n            ax[1].plot(self.data,self.gmm.predict_proba(self.data)[:,c],\"o\",\\n                       markersize=dsize, label=\"Cluster \"+str(c+1))\\n            \\n        ax[0].set(ylabel=r\\'Normal distribution\\', xlabel=self.name)\\n        ax[1].set(ylabel=r\\'Posterior probabilities\\',  xlabel=self.name)\\n\\n        ax[0].legend(bbox_to_anchor=(0,1.02,1,0.2),loc=\"lower left\", handletextpad=.01,\\n                     edgecolor=\\'black\\', mode=\"expand\", ncol=self.n, fontsize=lsize)\\n        ax[1].legend(bbox_to_anchor=(0,1.02,1,0.2),loc=\"lower left\", \\n                     mode=\"expand\", ncol=self.n, fontsize=lsize, edgecolor=\\'black\\') \\n        \\n        plt.rcParams.update({\\'font.size\\': fsize})\\n        plt.subplots_adjust(wspace = .2)\\n        \\n        if save == True: \\n            plt.savefig(\"figures/\"+self.fig_name+\".pdf\" ,bbox_inches=\\'tight\\')\\n'"
      ]
     },
     "execution_count": 446,
     "metadata": {},
     "output_type": "execute_result"
    }
   ],
   "source": [
    "#complement function in the class \"clustering\" to plot the culsters \n",
    "'''      \n",
    "    #Clusters_plot\n",
    "    def clusters_plot(self, save=False, fig_name=\"nn\"):\n",
    "        self.fig_name = fig_name\n",
    "        dsize, lsize, fsize = 3.5, 11, 14\n",
    "        self.data = np.log10(self.NewData.Center_of_Mass.values.reshape(-1, 1))\n",
    "        self.color = [\"C\"+str(self.cluster_label[i]+1) for i in range(len(self.cluster_label))]\n",
    "        x = np.linspace(self.data.min(),self.data.max(),1000)\n",
    "        figure, ax = plt.subplots(1, 2, sharex='col', sharey='row', figsize=(12, 5))\n",
    "        \n",
    "        #Gaussians and scaters:\n",
    "        for c in range(self.n):\n",
    "            ax[0].plot(x,norm.pdf(x,self.gmm.means_[c], self.gmm.covariances_[c])[0]/\\\n",
    "                       norm.pdf(x,self.gmm.means_[c], self.gmm.covariances_[c])[0].max(), \n",
    "                       label =r\"Gaussian \"+str(c+1))\n",
    "            \n",
    "            Mass_a=self.data[self.cluster_label==c]    \n",
    "            \n",
    "            ax[0].plot(Mass_a, np.zeros(len(Mass_a)),\"o\", markersize=dsize,\n",
    "                       label='Cluster '+str(c+1), color=\"C\"+str(c))\n",
    "\n",
    "            ax[1].plot(self.data,self.gmm.predict_proba(self.data)[:,c],\"o\",\n",
    "                       markersize=dsize, label=\"Cluster \"+str(c+1))\n",
    "            \n",
    "        ax[0].set(ylabel=r'Normal distribution', xlabel=self.name)\n",
    "        ax[1].set(ylabel=r'Posterior probabilities',  xlabel=self.name)\n",
    "\n",
    "        ax[0].legend(bbox_to_anchor=(0,1.02,1,0.2),loc=\"lower left\", handletextpad=.01,\n",
    "                     edgecolor='black', mode=\"expand\", ncol=self.n, fontsize=lsize)\n",
    "        ax[1].legend(bbox_to_anchor=(0,1.02,1,0.2),loc=\"lower left\", \n",
    "                     mode=\"expand\", ncol=self.n, fontsize=lsize, edgecolor='black') \n",
    "        \n",
    "        plt.rcParams.update({'font.size': fsize})\n",
    "        plt.subplots_adjust(wspace = .2)\n",
    "        \n",
    "        if save == True: \n",
    "            plt.savefig(\"figures/\"+self.fig_name+\".pdf\" ,bbox_inches='tight')\n",
    "'''"
   ]
  },
  {
   "cell_type": "code",
   "execution_count": 44,
   "metadata": {
    "collapsed": true
   },
   "outputs": [
    {
     "data": {
      "image/png": "[encoded data removed]",
      "text/plain": [
       "<Figure size 864x360 with 2 Axes>"
      ]
     },
     "metadata": {
      "needs_background": "light"
     },
     "output_type": "display_data"
    }
   ],
   "source": [
    "cluster.clusters_plot()"
   ]
  },
  {
   "cell_type": "markdown",
   "metadata": {},
   "source": [
    "## Thesis plots"
   ]
  },
  {
   "cell_type": "code",
   "execution_count": 421,
   "metadata": {},
   "outputs": [],
   "source": [
    "from matplotlib.ticker import (MultipleLocator, FormatStrFormatter,AutoMinorLocator)\n",
    "import matplotlib.ticker as mtick\n",
    "\n",
    "import warnings; warnings.simplefilter('ignore')\n",
    "mpl.rcParams['text.usetex'] = True\n",
    "mpl.rcParams['text.latex.preamble'] = [r'\\usepackage{amsmath}', r'\\usepackage{wasysym}']\n",
    "\n",
    "plt.style.use('./figures/img.mplstyle')"
   ]
  },
  {
   "cell_type": "markdown",
   "metadata": {},
   "source": [
    "Esta parte esta hecha a mano, se puede mejorar para obtener las graficas de acuerdo al numero de clusters, pero por tiempo, prefiero repetir las graficas"
   ]
  },
  {
   "cell_type": "code",
   "execution_count": 422,
   "metadata": {},
   "outputs": [
    {
     "data": {
      "image/png": "[encoded data removed]",
      "text/plain": [
       "<Figure size 360x252 with 1 Axes>"
      ]
     },
     "metadata": {
      "needs_background": "light"
     },
     "output_type": "display_data"
    }
   ],
   "source": [
    "cluster = clustering(data, True)\n",
    "cluster.GMM(2)\n",
    "\n",
    "a = np.log10(cluster.NewData.Center_of_Mass.values).reshape(-1,1)\n",
    "x = np.linspace(a.min(),a.max(),1000).reshape(-1,1)\n",
    "\n",
    "#len(np.where(x < cluster.gmm.means_[0]+(3*np.sqrt(cluster.gmm.covariances_[0])))[0])\n",
    "\n",
    "#s = cluster.gmm.means_[c]+(3*np.sqrt(cluster.gmm.covariances_[c]))\n",
    "\n",
    "figure, ax = plt.subplots(1, 1)\n",
    "ax.set(xlim=(x.min(),x.max()), ylim=(0,1.35))\n",
    "\n",
    "colores = [\"C0\",\"C4\"]\n",
    "\n",
    "_,_,bars = plt.hist(a, bins = 60, density = True)\n",
    "\n",
    "for bar in bars:\n",
    "    if bar.get_x() <= x[215]:\n",
    "        bar.set_facecolor(\"C0\"); bar.set_alpha(0.4); #bar.set_hatch('.') #hatch{'/', '\\', '|', '-', '+', 'x', 'o', 'O', '.', '*'}\n",
    "        bar.set_edgecolor(\"C0\")\n",
    "        \n",
    "    elif bar.get_x() > x[215] and bar.get_x() < x[980]:\n",
    "        bar.set_facecolor(\"C4\"); bar.set_alpha(0.4); #bar.set_hatch('.') #hatch{'/', '\\', '|', '-', '+', 'x', 'o', 'O', '.', '*'}\n",
    "        bar.set_edgecolor(\"C4\")\n",
    "    \n",
    "bars[0].set_label(r\"Cluster $1$\"); bars[-2].set_label(r\"Cluster $2$\")\n",
    "    \n",
    "for c in range(cluster.n):\n",
    "    g = ax.plot(x, norm.pdf(x,cluster.gmm.means_[c], np.sqrt(cluster.gmm.covariances_[c]))/2, color = colores[c])#/\\\n",
    "         \n",
    "plt.xlabel(r\"$\\log_{10}\\left(\\frac{r_\\text{cm}}{1\\ \\text{AU}}\\right)$\")\n",
    "plt.ylabel(r\"Counts\")\n",
    "plt.legend()\n",
    "plt.savefig(\"figures/GMM2.pdf\",bbox_inches='tight')"
   ]
  },
  {
   "cell_type": "code",
   "execution_count": 423,
   "metadata": {},
   "outputs": [
    {
     "name": "stdout",
     "output_type": "stream",
     "text": [
      "552\n"
     ]
    }
   ],
   "source": [
    "cluster = clustering(data, True)\n",
    "cluster.GMM(3)\n",
    "\n",
    "a = np.log10(cluster.NewData.Center_of_Mass.values).reshape(-1,1)\n",
    "x = np.linspace(a.min(),a.max(),1000).reshape(-1,1)\n",
    "\n",
    "print(len(np.where(x < cluster.gmm.means_[1]+(2*np.sqrt(cluster.gmm.covariances_[1])))[0]))"
   ]
  },
  {
   "cell_type": "code",
   "execution_count": 424,
   "metadata": {},
   "outputs": [
    {
     "data": {
      "image/png": "[encoded data removed]",
      "text/plain": [
       "<Figure size 360x252 with 1 Axes>"
      ]
     },
     "metadata": {
      "needs_background": "light"
     },
     "output_type": "display_data"
    }
   ],
   "source": [
    "figure, ax = plt.subplots(1, 1)\n",
    "ax.set(xlim=(x.min(),x.max()), ylim=(0,1.35))\n",
    "\n",
    "colores = [\"C0\",\"C4\",\"C2\"]\n",
    "\n",
    "_,_,bars = plt.hist(a, bins = 60, density = True)\n",
    "\n",
    "for bar in bars:\n",
    "    if bar.get_x() <= x[215]:\n",
    "        bar.set_facecolor(\"C0\"); bar.set_alpha(0.4); #bar.set_hatch('.') #hatch{'/', '\\', '|', '-', '+', 'x', 'o', 'O', '.', '*'}\n",
    "        bar.set_edgecolor(\"C0\")\n",
    "        \n",
    "    elif bar.get_x() > x[215] and bar.get_x() < x[550]:\n",
    "        bar.set_facecolor(\"C4\"); bar.set_alpha(0.4); #bar.set_hatch('.') #hatch{'/', '\\', '|', '-', '+', 'x', 'o', 'O', '.', '*'}\n",
    "        bar.set_edgecolor(\"C4\")\n",
    "        \n",
    "    elif bar.get_x() >= x[550]:    \n",
    "        bar.set_facecolor(\"C2\"); bar.set_alpha(0.4); #bar.set_hatch('.') #hatch{'/', '\\', '|', '-', '+', 'x', 'o', 'O', '.', '*'}\n",
    "        bar.set_edgecolor(\"C2\")\n",
    "    \n",
    "bars[0].set_label(r\"Cluster $1$\"); \n",
    "bars[20].set_label(r\"Cluster $2$\"); \n",
    "bars[-2].set_label(r\"Cluster $3$\")\n",
    "    \n",
    "for c in range(cluster.n):\n",
    "    g = ax.plot(x, norm.pdf(x,cluster.gmm.means_[c], np.sqrt(cluster.gmm.covariances_[c]))/2, color = colores[c])#/\\\n",
    "         \n",
    "plt.xlabel(r\"$\\log_{10}\\left(\\frac{r_\\text{cm}}{1\\ \\text{AU}}\\right)$\")\n",
    "plt.ylabel(r\"Counts\")\n",
    "plt.legend()\n",
    "plt.savefig(\"figures/GMM3.pdf\",bbox_inches='tight')"
   ]
  },
  {
   "cell_type": "markdown",
   "metadata": {},
   "source": [
    "For $k=4$ and $k=6$ we have "
   ]
  },
  {
   "cell_type": "code",
   "execution_count": 442,
   "metadata": {},
   "outputs": [],
   "source": [
    "#Plots groups and the gaussians for k=4 and k=6.\n",
    "def clusterPlot(data, n):\n",
    "    cluster = clustering(data, True)\n",
    "    cluster.GMM(n)\n",
    "    \n",
    "    a = np.log10(cluster.NewData.Center_of_Mass.values).reshape(-1,1)\n",
    "    x = np.linspace(a.min(),a.max(),1000).reshape(-1,1)\n",
    "    colores    = [\"C0\",\"C4\",\"C2\", \"C1\", \"C3\", \"C5\"]\n",
    "    colores    = [\"C0\",\"C4\",\"C2\", \"C1\", \"C3\", \"C5\"]\n",
    "    min_gauss, max_gauss = [], []\n",
    "    \n",
    "    for i in range(n):\n",
    "        min_gauss.append(np.where(x < cluster.gmm.means_[i]-\n",
    "                                  (1*np.sqrt(cluster.gmm.covariances_[i])))[0].max())\n",
    "        max_gauss.append(np.where(x < cluster.gmm.means_[i]+\n",
    "                                  (1*np.sqrt(cluster.gmm.covariances_[i])))[0].max())\n",
    "    \n",
    "    max_gauss = np.sort(max_gauss)\n",
    "        \n",
    "    #return(max_gauss)\n",
    "    \n",
    "    #Fugures\n",
    "    figure, ax = plt.subplots(1, 1)#, figsize = (10,5))\n",
    "    ax.set(xlim=(x.min(),x.max()), ylim=(0,1.35))\n",
    "    \n",
    "    if n == 4:\n",
    "        _,_,bars = plt.hist(a, bins = 60, density = True, color = \"C1\", alpha =.4)\n",
    "    \n",
    "    elif n == 6:\n",
    "        _,_,bars = plt.hist(a, bins = 60, density = True, color = \"C5\", alpha =.4)\n",
    "    \n",
    "    else: \n",
    "        _,_,bars = plt.hist(a, bins = 60, density = True)#, color = \"C1\", alpha =.4)\n",
    "    \n",
    "    #print(bars)\n",
    "\n",
    "    for bar in bars:\n",
    "        for j in range(n):\n",
    "            if j == 0: \n",
    "                if bar.get_x() <= x[max_gauss[j]]:\n",
    "                    bar.set_facecolor(colores[j]); bar.set_alpha(0.4); #bar.set_hatch('.') #hatch{'/', '\\', '|', '-', '+', 'x', 'o', 'O', '.', '*'}\n",
    "                    bar.set_edgecolor(colores[j]); bar.set_edgecolor(colores[j])\n",
    "                    bars[0].set_label(r\"Cluster \"+str(j+1))\n",
    "            else:        \n",
    "                if bar.get_x() > x[max_gauss[j-1]] and bar.get_x() <= x[max_gauss[j]]:\n",
    "                    bar.set_facecolor(colores[j]); \n",
    "                    bar.set_edgecolor(colores[j]); #bars[j+10].set_label(r\"Cluster \"+str(j+1))\n",
    "                        \n",
    "            if j == n:\n",
    "                if bar.get_x() >= x[max_gauss[j]]:\n",
    "                    bar.set_facecolor(colores[j]); bar.set_alpha(0.4); #bar.set_hatch('.') #hatch{'/', '\\', '|', '-', '+', 'x', 'o', 'O', '.', '*'}\n",
    "                    bar.set_edgecolor(colores[j]); \n",
    "                        \n",
    "    if n == 4: \n",
    "        bars[12].set_label(r\"Cluster $2$\");bars[22].set_label(r\"Cluster $3$\")\n",
    "        bars[33].set_label(r\"Cluster $4$\")\n",
    "        colores    = [\"C0\",\"C2\",\"C1\",\"C4\",\"C1\"]\n",
    "        \n",
    "        for c in range(n):\n",
    "            g = ax.plot(x, norm.pdf(x,cluster.gmm.means_[c], \n",
    "                                    np.sqrt(cluster.gmm.covariances_[c]))/2, \n",
    "                        color = colores[c])\n",
    "    elif n == 6: \n",
    "        \n",
    "        bars[12].set_label(r\"Cluster $2$\");bars[22].set_label(r\"Cluster $3$\")\n",
    "        bars[25].set_label(r\"Cluster $4$\");bars[28].set_label(r\"Cluster $5$\")\n",
    "        bars[33].set_label(r\"Cluster $6$\")\n",
    "        colores    = [\"C0\",\"C1\",\"C5\",\"C4\",\"C3\",\"C2\"]\n",
    "        \n",
    "        for c in range(n):\n",
    "            g = ax.plot(x, norm.pdf(x,cluster.gmm.means_[c], \n",
    "                                    np.sqrt(cluster.gmm.covariances_[c]))/2, \n",
    "                        color = colores[c])\n",
    "    else: \n",
    "        for c in range(n):\n",
    "            g = ax.plot(x, norm.pdf(x,cluster.gmm.means_[c], \n",
    "                                    np.sqrt(cluster.gmm.covariances_[c]))/2, \n",
    "                        color = colores[c])\n",
    "    \n",
    "    \n",
    "    plt.xlabel(r\"$\\log_{10}\\left(\\frac{r_\\text{cm}}{1\\ \\text{AU}}\\right)$\")\n",
    "    plt.ylabel(r\"Counts\")\n",
    "    plt.legend()\n",
    "    plt.savefig(\"figures/GMM\"+str(n)+\".pdf\",bbox_inches='tight')"
   ]
  },
  {
   "cell_type": "code",
   "execution_count": 443,
   "metadata": {},
   "outputs": [
    {
     "data": {
      "image/png": "[encoded data removed]",
      "text/plain": [
       "<Figure size 360x252 with 1 Axes>"
      ]
     },
     "metadata": {
      "needs_background": "light"
     },
     "output_type": "display_data"
    }
   ],
   "source": [
    "a = clusterPlot(data,4)"
   ]
  },
  {
   "cell_type": "code",
   "execution_count": 444,
   "metadata": {},
   "outputs": [
    {
     "data": {
      "image/png": "[encoded data removed]",
      "text/plain": [
       "<Figure size 360x252 with 1 Axes>"
      ]
     },
     "metadata": {
      "needs_background": "light"
     },
     "output_type": "display_data"
    }
   ],
   "source": [
    "a = clusterPlot(data,6)"
   ]
  },
  {
   "cell_type": "markdown",
   "metadata": {},
   "source": [
    "In general, without color un the histogram, we have groups as data points exist "
   ]
  },
  {
   "cell_type": "code",
   "execution_count": 436,
   "metadata": {},
   "outputs": [],
   "source": [
    "def clusters_plot2(data, groups, nbins = 60):\n",
    "    cluster = clustering(data, True)\n",
    "    cluster.GMM(groups)\n",
    "    a = np.log10(cluster.NewData.Center_of_Mass.values)\n",
    "    x = np.linspace(a.min(),a.max(),1000).reshape(-1,1)\n",
    "    \n",
    "    figure, ax = plt.subplots(1, 1); fig.tight_layout()\n",
    "    \n",
    "    ax.set(xlim=(x.min(),x.max()))\n",
    "\n",
    "    rcm = ax.hist(a, bins=nbins, density = True, alpha = .5, label = r'$\\log_{10}\\left(\\frac{r_\\text{cm}}{1\\ \\text{AU}}\\right)$')\n",
    "    \n",
    "    for c in range(cluster.n):\n",
    "        g   = ax.plot(x, norm.pdf(x,cluster.gmm.means_[c], np.sqrt(cluster.gmm.covariances_[c]))/2)#/\\\n",
    "                      #norm.pdf(x,cluster.gmm.means_[c], np.sqrt(cluster.gmm.covariances_[c])).max())\n",
    "    \n",
    "    plt.xlabel(r\"$\\log_{10}\\left(\\frac{r_\\text{cm}}{1\\ \\text{AU}}\\right)$\")\n",
    "    plt.ylabel(r\"Counts\")\n",
    "    plt.legend()\n",
    "    plt.show()\n",
    "    "
   ]
  },
  {
   "cell_type": "code",
   "execution_count": 437,
   "metadata": {},
   "outputs": [
    {
     "data": {
      "image/png": "[encoded data removed]",
      "text/plain": [
       "<Figure size 360x252 with 1 Axes>"
      ]
     },
     "metadata": {
      "needs_background": "light"
     },
     "output_type": "display_data"
    }
   ],
   "source": [
    "clusters_plot2(data,10)"
   ]
  },
  {
   "cell_type": "code",
   "execution_count": 555,
   "metadata": {},
   "outputs": [],
   "source": [
    "#comparison between AIC and BIC criteria----------------(plot)------------------------\n",
    "\n",
    "def plot_criteria(criteria):\n",
    "  \n",
    "    figure, ax = plt.subplots(1, 2,figsize = (11,3.5))\n",
    "    label = ['BIC','AIC']\n",
    "\n",
    "    for i,criterium in enumerate(criteria):\n",
    "        dim  = len(criteria[i])\n",
    "        norm = min(criteria[i])/max(criteria[i])\n",
    "        \n",
    "     \n",
    "        ax[i].plot(range(1, dim+1),criteria[i]/max(criteria[i]), lw = 1.5, zorder=1)#, label=label[i])\n",
    "        ax[i].plot(range(1, dim+1),np.ones(dim)*norm, color = \"C4\", alpha = .8, \n",
    "                   ls = \"--\",label=r\"Ideal clustering = \"+str(criteria[i].index(min(criteria[i]))+1) )\n",
    "\n",
    "        ax[i].scatter(range(1, dim+1), criteria[i]/max(criteria[i]), \n",
    "                     marker = \"h\", s = 20,c=\"C4\",label=label[i]+\" value\", zorder=2)\n",
    "        \n",
    "        ax[i].set_xlabel(r'Number of clusters $k$')\n",
    "        ax[i].set_ylabel(r'Normal value')\n",
    "        \n",
    "        ax[i].legend(loc=0)#,edgecolor='black')\n",
    "        ax[i].set_xlim(0, dim+1)\n",
    "        ax[i].set_xticks(np.arange(0, dim+1, step=2))\n",
    "        #ax[i].tick_params()\n",
    "\n",
    "    plt.subplots_adjust(wspace=0.4)\n",
    "    #plt.savefig(\"figures/BIC-AIC.pdf\",bbox_inches='tight')\n",
    "    #return [bic,aic]"
   ]
  },
  {
   "cell_type": "code",
   "execution_count": 556,
   "metadata": {},
   "outputs": [
    {
     "data": {
      "image/png": "[encoded data removed]",
      "text/plain": [
       "<Figure size 792x252 with 2 Axes>"
      ]
     },
     "metadata": {
      "needs_background": "light"
     },
     "output_type": "display_data"
    }
   ],
   "source": [
    "cluster = clustering(data, True); cluster.inf_criteria(20)\n",
    "plot_criteria([cluster.bic,cluster.aic])"
   ]
  },
  {
   "cell_type": "code",
   "execution_count": 570,
   "metadata": {},
   "outputs": [],
   "source": [
    "#individual criterium plots \n",
    "def plot_criteria(criteria, name, BIC = True):\n",
    "  \n",
    "    figure, ax = plt.subplots(1, 1)\n",
    "    label = ['BIC']\n",
    "    \n",
    "    if BIC == False: \n",
    "        label = ['AIC']\n",
    "\n",
    "    for i,criterium in enumerate(criteria):\n",
    "        dim  = len(criteria[i])\n",
    "        norm = min(criteria[i])/max(criteria[i])\n",
    "        \n",
    "     \n",
    "        ax.plot(range(1, dim+1),criteria[i]/max(criteria[i]), lw = 1.5, zorder=1)#, label=label[i])\n",
    "        ax.plot(range(1, dim+1),np.ones(dim)*norm, color = \"C4\", alpha = .8, \n",
    "                   ls = \"--\",label=r\"Ideal clustering = \"+str(criteria[i].index(min(criteria[i]))+1) )\n",
    "\n",
    "        ax.scatter(range(1, dim+1), criteria[i]/max(criteria[i]), \n",
    "                     marker = \"h\", s = 20,c=\"C4\",label=label[i]+\" value\", zorder=2)\n",
    "        \n",
    "        ax.set_xlabel(r'Number of clusters $k$')\n",
    "        ax.set_ylabel(r'Normal value')\n",
    "        \n",
    "        ax.legend(loc=0)#,edgecolor='black')\n",
    "        ax.set_xlim(0, dim+1)\n",
    "        ax.set_xticks(np.arange(0, dim+1, step=2))\n",
    "        #ax[i].tick_params()\n",
    "\n",
    "    plt.subplots_adjust(wspace=0.4)\n",
    "    plt.savefig(\"figures/\"+name+\".pdf\",bbox_inches='tight')\n",
    "    #return [bic,aic]"
   ]
  },
  {
   "cell_type": "code",
   "execution_count": 571,
   "metadata": {},
   "outputs": [],
   "source": [
    "#plot_criteria([cluster.bic], \"BIC\")"
   ]
  },
  {
   "cell_type": "code",
   "execution_count": 572,
   "metadata": {},
   "outputs": [],
   "source": [
    "#plot_criteria([cluster.aic], \"AIC\", False)"
   ]
  },
  {
   "cell_type": "code",
   "execution_count": 589,
   "metadata": {},
   "outputs": [],
   "source": [
    "#plot of 4 clusters with the classification names\n",
    "def clusterPlot2(data):\n",
    "    n=4\n",
    "    cluster = clustering(data, True)\n",
    "    cluster.GMM(n)\n",
    "    \n",
    "    a = np.log10(cluster.NewData.Center_of_Mass.values).reshape(-1,1)\n",
    "    x = np.linspace(a.min(),a.max(),1000).reshape(-1,1)\n",
    "    colores    = [\"C0\",\"C4\",\"C2\", \"C1\", \"C3\", \"C5\"]\n",
    "    names = [\"Sub-mercurian systems\",\"Venusian systems\", \n",
    "             \"Solar-like systems\",\"Periphery systems\"]\n",
    "    min_gauss, max_gauss = [], []\n",
    "    \n",
    "    for i in range(n):\n",
    "        max_gauss.append(np.where(x < cluster.gmm.means_[i]+\n",
    "                                  (1*np.sqrt(cluster.gmm.covariances_[i])))[0].max())\n",
    "    max_gauss = np.sort(max_gauss)\n",
    "    \n",
    "    #Fugures\n",
    "    figure, ax = plt.subplots(1, 1, figsize = (6,4))\n",
    "    ax.set(xlim=(x.min(),x.max()), ylim=(0,1.35))\n",
    "    \n",
    "   \n",
    "    _,_,bars = plt.hist(a, bins = 60, density = True, color = \"C1\", alpha =.4)\n",
    "\n",
    "    for bar in bars:\n",
    "        for j in range(n):\n",
    "            if j == 0: \n",
    "                if bar.get_x() <= x[max_gauss[j]]:\n",
    "                    bar.set_facecolor(colores[j]); bar.set_alpha(0.4); #bar.set_hatch('.') #hatch{'/', '\\', '|', '-', '+', 'x', 'o', 'O', '.', '*'}\n",
    "                    bar.set_edgecolor(colores[j]); bar.set_edgecolor(colores[j])\n",
    "            else:        \n",
    "                if bar.get_x() > x[max_gauss[j-1]] and bar.get_x() <= x[max_gauss[j]]:\n",
    "                    bar.set_facecolor(colores[j]); \n",
    "                    bar.set_edgecolor(colores[j]); #bars[j+10].set_label(r\"Cluster \"+str(j+1))\n",
    "            if j == n:\n",
    "                if bar.get_x() >= x[max_gauss[j]]:\n",
    "                    bar.set_facecolor(colores[j]); bar.set_alpha(0.4); #bar.set_hatch('.') #hatch{'/', '\\', '|', '-', '+', 'x', 'o', 'O', '.', '*'}\n",
    "                    bar.set_edgecolor(colores[j]); \n",
    "                        \n",
    "    bars[12].set_label(names[1]);bars[22].set_label(names[2])\n",
    "    bars[33].set_label(names[-1]);bars[0].set_label(names[0])\n",
    "    colores    = [\"C0\",\"C2\",\"C1\",\"C4\",\"C1\"]\n",
    "        \n",
    "    for c in range(n):\n",
    "        g = ax.plot(x, norm.pdf(x,cluster.gmm.means_[c], \n",
    "                                np.sqrt(cluster.gmm.covariances_[c]))/2, \n",
    "                    color = colores[c])\n",
    "    \n",
    "    plt.xlabel(r\"$\\log_{10}\\left(\\frac{r_\\text{cm}}{1\\ \\text{AU}}\\right)$\")\n",
    "    plt.ylabel(r\"Counts\")\n",
    "    plt.legend()\n",
    "    plt.savefig(\"figures/classif.pdf\",bbox_inches='tight')"
   ]
  },
  {
   "cell_type": "code",
   "execution_count": 590,
   "metadata": {},
   "outputs": [
    {
     "data": {
      "image/png": "[encoded data removed]",
      "text/plain": [
       "<Figure size 432x288 with 1 Axes>"
      ]
     },
     "metadata": {
      "needs_background": "light"
     },
     "output_type": "display_data"
    }
   ],
   "source": [
    "clusterPlot2(data)"
   ]
  },
  {
   "cell_type": "markdown",
   "metadata": {},
   "source": [
    "Now the posterior probability plot "
   ]
  },
  {
   "cell_type": "code",
   "execution_count": null,
   "metadata": {},
   "outputs": [],
   "source": [
    "'''      \n",
    "    #Clusters_plot\n",
    "    def clusters_plot(self, save=False, fig_name=\"nn\"):\n",
    "        self.fig_name = fig_name\n",
    "        dsize, lsize, fsize = 3.5, 11, 14\n",
    "        self.data = np.log10(self.NewData.Center_of_Mass.values.reshape(-1, 1))\n",
    "        self.color = [\"C\"+str(self.cluster_label[i]+1) for i in range(len(self.cluster_label))]\n",
    "        x = np.linspace(self.data.min(),self.data.max(),1000)\n",
    "        figure, ax = plt.subplots(1, 2, sharex='col', sharey='row', figsize=(12, 5))\n",
    "        \n",
    "        #Gaussians and scaters:\n",
    "        for c in range(self.n):\n",
    "            ax[0].plot(x,norm.pdf(x,self.gmm.means_[c], self.gmm.covariances_[c])[0]/\\\n",
    "                       norm.pdf(x,self.gmm.means_[c], self.gmm.covariances_[c])[0].max(), \n",
    "                       label =r\"Gaussian \"+str(c+1))\n",
    "            \n",
    "            Mass_a=self.data[self.cluster_label==c]    \n",
    "            \n",
    "            ax[0].plot(Mass_a, np.zeros(len(Mass_a)),\"o\", markersize=dsize,\n",
    "                       label='Cluster '+str(c+1), color=\"C\"+str(c))\n",
    "\n",
    "            ax[1].plot(self.data,self.gmm.predict_proba(self.data)[:,c],\"o\",\n",
    "                       markersize=dsize, label=\"Cluster \"+str(c+1))\n",
    "            \n",
    "        ax[0].set(ylabel=r'Normal distribution', xlabel=self.name)\n",
    "        ax[1].set(ylabel=r'Posterior probabilities',  xlabel=self.name)\n",
    "\n",
    "        ax[0].legend(bbox_to_anchor=(0,1.02,1,0.2),loc=\"lower left\", handletextpad=.01,\n",
    "                     edgecolor='black', mode=\"expand\", ncol=self.n, fontsize=lsize)\n",
    "        ax[1].legend(bbox_to_anchor=(0,1.02,1,0.2),loc=\"lower left\", \n",
    "                     mode=\"expand\", ncol=self.n, fontsize=lsize, edgecolor='black') \n",
    "        \n",
    "        plt.rcParams.update({'font.size': fsize})\n",
    "        plt.subplots_adjust(wspace = .2)\n",
    "        \n",
    "        if save == True: \n",
    "            plt.savefig(\"figures/\"+self.fig_name+\".pdf\" ,bbox_inches='tight')\n",
    "'''"
   ]
  },
  {
   "cell_type": "code",
   "execution_count": null,
   "metadata": {},
   "outputs": [],
   "source": [
    "def clusters_Postplot(data, groups = 4):\n",
    "    cluster = clustering(data, True)\n",
    "    cluster.GMM(groups)\n",
    "    a = np.log10(cluster.NewData.Center_of_Mass.values)\n",
    "    x = np.linspace(a.min(),a.max(),1000).reshape(-1,1)\n",
    "    \n",
    "    names = [\"Sub-mercurian systems\",\"Venusian systems\", \n",
    "             \"Solar-like systems\",\"Periphery systems\"]\n",
    "    \n",
    "    #plot\n",
    "    figure, ax = plt.subplots(1, 1); fig.tight_layout()\n",
    "    ax.set(xlim=(x.min(),x.max()))\n",
    "    for c in range(self.n):\n",
    "        ax.scatter(a, cluster.gmm.predict_proba(a), \n",
    "                   marker = \"h\", s = 20,c=\"C4\",\n",
    "                   label=label[i]+\" value\", zorder=2)\n",
    "    \n",
    "    for c in range(cluster.n):\n",
    "        g   = ax.plot(x, norm.pdf(x,cluster.gmm.means_[c], np.sqrt(cluster.gmm.covariances_[c]))/2)#/\\\n",
    "                      #norm.pdf(x,cluster.gmm.means_[c], np.sqrt(cluster.gmm.covariances_[c])).max())\n",
    "    \n",
    "    plt.xlabel(r\"$\\log_{10}\\left(\\frac{r_\\text{cm}}{1\\ \\text{AU}}\\right)$\")\n",
    "    plt.ylabel(r\"Counts\")\n",
    "    plt.legend()\n",
    "    plt.show()"
   ]
  },
  {
   "cell_type": "code",
   "execution_count": null,
   "metadata": {},
   "outputs": [],
   "source": [
    "clusters_plot2(data,10)"
   ]
  },
  {
   "cell_type": "code",
   "execution_count": null,
   "metadata": {},
   "outputs": [],
   "source": []
  },
  {
   "cell_type": "code",
   "execution_count": null,
   "metadata": {},
   "outputs": [],
   "source": []
  },
  {
   "cell_type": "code",
   "execution_count": null,
   "metadata": {},
   "outputs": [],
   "source": []
  },
  {
   "cell_type": "code",
   "execution_count": null,
   "metadata": {},
   "outputs": [],
   "source": []
  },
  {
   "cell_type": "code",
   "execution_count": null,
   "metadata": {},
   "outputs": [],
   "source": []
  }
 ],
 "metadata": {
  "celltoolbar": "Slideshow",
  "kernelspec": {
   "display_name": "Python 3",
   "language": "python",
   "name": "python3"
  },
  "language_info": {
   "codemirror_mode": {
    "name": "ipython",
    "version": 3
   },
   "file_extension": ".py",
   "mimetype": "text/x-python",
   "name": "python",
   "nbconvert_exporter": "python",
   "pygments_lexer": "ipython3",
   "version": "3.8.3"
  }
 },
 "nbformat": 4,
 "nbformat_minor": 2
}
